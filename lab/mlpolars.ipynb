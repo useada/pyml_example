{
 "cells": [
  {
   "cell_type": "code",
   "execution_count": 1,
   "id": "95d10b85-5a41-496c-861e-8d5c570adcda",
   "metadata": {},
   "outputs": [
    {
     "name": "stderr",
     "output_type": "stream",
     "text": [
      "/home/abc/.opam/default/lib/base/base_internalhash_types: added to search path\n",
      "/home/abc/.opam/default/lib/base/base_internalhash_types/base_internalhash_types.cma: loaded\n",
      "/home/abc/.opam/default/lib/base/caml: added to search path\n",
      "/home/abc/.opam/default/lib/base/caml/caml.cma: loaded\n",
      "/home/abc/.opam/default/lib/base/shadow_stdlib: added to search path\n",
      "/home/abc/.opam/default/lib/base/shadow_stdlib/shadow_stdlib.cma: loaded\n",
      "/home/abc/.opam/default/lib/sexplib0: added to search path\n",
      "/home/abc/.opam/default/lib/sexplib0/sexplib0.cma: loaded\n",
      "/home/abc/.opam/default/lib/base: added to search path\n",
      "/home/abc/.opam/default/lib/base/base.cma: loaded\n",
      "/home/abc/.opam/default/lib/base/md5: added to search path\n",
      "/home/abc/.opam/default/lib/base/md5/md5_lib.cma: loaded\n",
      "/home/abc/.opam/default/lib/fieldslib: added to search path\n",
      "/home/abc/.opam/default/lib/fieldslib/fieldslib.cma: loaded\n",
      "/home/abc/.opam/default/lib/ppx_compare/runtime-lib: added to search path\n",
      "/home/abc/.opam/default/lib/ppx_compare/runtime-lib/ppx_compare_lib.cma: loaded\n",
      "/home/abc/.opam/default/lib/ppx_enumerate/runtime-lib: added to search path\n",
      "/home/abc/.opam/default/lib/ppx_enumerate/runtime-lib/ppx_enumerate_lib.cma: loaded\n",
      "/home/abc/.opam/default/lib/ppx_sexp_conv/runtime-lib: added to search path\n",
      "/home/abc/.opam/default/lib/ppx_sexp_conv/runtime-lib/ppx_sexp_conv_lib.cma: loaded\n",
      "/home/abc/.opam/default/lib/ppx_hash/runtime-lib: added to search path\n",
      "/home/abc/.opam/default/lib/ppx_hash/runtime-lib/ppx_hash_lib.cma: loaded\n",
      "/home/abc/.opam/default/lib/ppx_here/runtime-lib: added to search path\n",
      "/home/abc/.opam/default/lib/ppx_here/runtime-lib/ppx_here_lib.cma: loaded\n",
      "/home/abc/.opam/default/lib/ppx_assert/runtime-lib: added to search path\n",
      "/home/abc/.opam/default/lib/ppx_assert/runtime-lib/ppx_assert_lib.cma: loaded\n",
      "/home/abc/.opam/default/lib/ppx_bench/runtime-lib: added to search path\n",
      "/home/abc/.opam/default/lib/ppx_bench/runtime-lib/ppx_bench_lib.cma: loaded\n",
      "/home/abc/.opam/default/lib/ppx_inline_test/config: added to search path\n",
      "/home/abc/.opam/default/lib/ppx_inline_test/config/inline_test_config.cma: loaded\n",
      "/home/abc/.opam/default/lib/jane-street-headers: added to search path\n",
      "/home/abc/.opam/default/lib/jane-street-headers/jane_street_headers.cma: loaded\n",
      "/home/abc/.opam/default/lib/time_now: added to search path\n",
      "/home/abc/.opam/default/lib/time_now/time_now.cma: loaded\n",
      "/home/abc/.opam/default/lib/ppx_inline_test/runtime-lib: added to search path\n",
      "/home/abc/.opam/default/lib/ppx_inline_test/runtime-lib/ppx_inline_test_lib.cma: loaded\n",
      "/home/abc/.opam/default/lib/splittable_random: added to search path\n",
      "/home/abc/.opam/default/lib/splittable_random/splittable_random.cma: loaded\n",
      "/home/abc/.opam/default/lib/base_quickcheck: added to search path\n",
      "/home/abc/.opam/default/lib/base_quickcheck/base_quickcheck.cma: loaded\n",
      "/home/abc/.opam/default/lib/base_quickcheck/ppx_quickcheck/runtime: added to search path\n",
      "/home/abc/.opam/default/lib/base_quickcheck/ppx_quickcheck/runtime/ppx_quickcheck_runtime.cma: loaded\n",
      "/home/abc/.opam/default/lib/ocaml/unix.cma: loaded\n",
      "/home/abc/.opam/default/lib/ocaml/bigarray.cma: loaded\n",
      "/home/abc/.opam/default/lib/variantslib: added to search path\n",
      "/home/abc/.opam/default/lib/variantslib/variantslib.cma: loaded\n",
      "/home/abc/.opam/default/lib/bin_prot/shape: added to search path\n",
      "/home/abc/.opam/default/lib/bin_prot/shape/bin_shape_lib.cma: loaded\n",
      "/home/abc/.opam/default/lib/bin_prot: added to search path\n",
      "/home/abc/.opam/default/lib/bin_prot/bin_prot.cma: loaded\n",
      "/home/abc/.opam/default/lib/ppx_expect/common: added to search path\n",
      "/home/abc/.opam/default/lib/ppx_expect/common/expect_test_common.cma: loaded\n",
      "/home/abc/.opam/default/lib/ppx_expect/config_types: added to search path\n",
      "/home/abc/.opam/default/lib/ppx_expect/config_types/expect_test_config_types.cma: loaded\n",
      "/home/abc/.opam/default/lib/ppx_expect/collector: added to search path\n",
      "/home/abc/.opam/default/lib/ppx_expect/collector/expect_test_collector.cma: loaded\n",
      "/home/abc/.opam/default/lib/ppx_expect/config: added to search path\n",
      "/home/abc/.opam/default/lib/ppx_expect/config/expect_test_config.cma: loaded\n",
      "/home/abc/.opam/default/lib/parsexp: added to search path\n",
      "/home/abc/.opam/default/lib/parsexp/parsexp.cma: loaded\n",
      "/home/abc/.opam/default/lib/sexplib: added to search path\n",
      "/home/abc/.opam/default/lib/sexplib/sexplib.cma: loaded\n",
      "/home/abc/.opam/default/lib/ppx_log/types: added to search path\n",
      "/home/abc/.opam/default/lib/ppx_log/types/ppx_log_types.cma: loaded\n",
      "/home/abc/.opam/default/lib/stdio: added to search path\n",
      "/home/abc/.opam/default/lib/stdio/stdio.cma: loaded\n",
      "/home/abc/.opam/default/lib/ppx_module_timer/runtime: added to search path\n",
      "/home/abc/.opam/default/lib/ppx_module_timer/runtime/ppx_module_timer_runtime.cma: loaded\n",
      "/home/abc/.opam/default/lib/typerep: added to search path\n",
      "/home/abc/.opam/default/lib/typerep/typerep_lib.cma: loaded\n",
      "/home/abc/.opam/default/lib/int_repr: added to search path\n",
      "/home/abc/.opam/default/lib/int_repr/int_repr.cma: loaded\n",
      "/home/abc/.opam/default/lib/base_bigstring: added to search path\n",
      "/home/abc/.opam/default/lib/base_bigstring/base_bigstring.cma: loaded\n",
      "/home/abc/.opam/default/lib/core/base_for_tests: added to search path\n",
      "/home/abc/.opam/default/lib/core/base_for_tests/base_for_tests.cma: loaded\n",
      "/home/abc/.opam/default/lib/core/validate: added to search path\n",
      "/home/abc/.opam/default/lib/core/validate/validate.cma: loaded\n",
      "/home/abc/.opam/default/lib/core: added to search path\n",
      "/home/abc/.opam/default/lib/core/core.cma: loaded\n",
      "/home/abc/.opam/default/lib/core_kernel/reversed_list: added to search path\n",
      "/home/abc/.opam/default/lib/core_kernel/reversed_list/reversed_list.cma: loaded\n",
      "/home/abc/.opam/default/lib/core_kernel/nonempty_list: added to search path\n",
      "/home/abc/.opam/default/lib/core_kernel/nonempty_list/nonempty_list.cma: loaded\n",
      "/home/abc/.opam/default/lib/core_kernel/flags: added to search path\n",
      "/home/abc/.opam/default/lib/core_kernel/flags/flags.cma: loaded\n",
      "/home/abc/.opam/default/lib/core_kernel/caml_threads: added to search path\n",
      "/home/abc/.opam/default/lib/core_kernel/caml_threads/caml_threads.cma: loaded\n",
      "/home/abc/.opam/default/lib/core_unix/error_checking_mutex: added to search path\n",
      "/home/abc/.opam/default/lib/core_unix/error_checking_mutex/error_checking_mutex.cma: loaded\n",
      "/home/abc/.opam/default/lib/core_kernel/caml_unix: added to search path\n",
      "/home/abc/.opam/default/lib/core_kernel/caml_unix/caml_unix.cma: loaded\n",
      "/home/abc/.opam/default/lib/core_unix/signal_unix: added to search path\n",
      "/home/abc/.opam/default/lib/core_unix/signal_unix/signal_unix.cma: loaded\n",
      "/home/abc/.opam/default/lib/sexplib/unix: added to search path\n",
      "/home/abc/.opam/default/lib/sexplib/unix/sexplib_unix.cma: loaded\n",
      "/home/abc/.opam/default/lib/spawn: added to search path\n",
      "/home/abc/.opam/default/lib/spawn/spawn.cma: loaded\n",
      "/home/abc/.opam/default/lib/core_unix: added to search path\n",
      "/home/abc/.opam/default/lib/core_unix/core_unix.cma: loaded\n",
      "/home/abc/.opam/default/lib/timezone: added to search path\n",
      "/home/abc/.opam/default/lib/timezone/timezone.cma: loaded\n",
      "/home/abc/.opam/default/lib/core_unix/time_unix: added to search path\n",
      "/home/abc/.opam/default/lib/core_unix/time_unix/time_unix.cma: loaded\n",
      "/home/abc/.opam/default/lib/core_unix/time_ns_unix: added to search path\n",
      "/home/abc/.opam/default/lib/core_unix/time_ns_unix/time_ns_unix.cma: loaded\n",
      "/home/abc/.opam/default/lib/ppx_typed_fields/typed_fields_lib: added to search path\n",
      "/home/abc/.opam/default/lib/ppx_typed_fields/typed_fields_lib/typed_fields_lib.cma: loaded\n",
      "/home/abc/.opam/default/lib/ppx_typed_fields/typed_variants_lib: added to search path\n",
      "/home/abc/.opam/default/lib/ppx_typed_fields/typed_variants_lib/typed_variants_lib.cma: loaded\n",
      "/home/abc/.opam/default/lib/polars: added to search path\n",
      "/home/abc/.opam/default/lib/polars/polars.cma: loaded\n"
     ]
    }
   ],
   "source": [
    "#require \"core\";;\n",
    "#require \"polars\";;"
   ]
  },
  {
   "cell_type": "code",
   "execution_count": 2,
   "id": "31acb683-95a9-4c7e-8e10-35cf5b8ab701",
   "metadata": {},
   "outputs": [
    {
     "name": "stderr",
     "output_type": "stream",
     "text": [
      "/home/abc/.opam/default/lib/ocaml/compiler-libs: added to search path\n",
      "/home/abc/.opam/default/lib/ocaml/compiler-libs/ocamlcommon.cma: loaded\n",
      "/home/abc/.opam/default/lib/ocaml/compiler-libs/ocamlbytecomp.cma: loaded\n",
      "/home/abc/.opam/default/lib/ocaml/compiler-libs/ocamltoplevel.cma: loaded\n",
      "/home/abc/.opam/default/lib/core/top: added to search path\n",
      "/home/abc/.opam/default/lib/core/top/core_top.cma: loaded\n"
     ]
    }
   ],
   "source": [
    "open Core\n",
    "open Polars\n",
    "#require \"core.top\";;"
   ]
  },
  {
   "cell_type": "code",
   "execution_count": 3,
   "id": "42bbe53b-df1d-4cef-a0fb-3191d5eb09cb",
   "metadata": {},
   "outputs": [
    {
     "data": {
      "text/plain": [
       "- : Polars.Data_frame.t =\n",
       "shape: (3, 1)\n",
       "┌────────┐\n",
       "│ foobar │\n",
       "│ ---    │\n",
       "│ i64    │\n",
       "╞════════╡\n",
       "│ 1      │\n",
       "│ 2      │\n",
       "│ 3      │\n",
       "└────────┘\n"
      ]
     },
     "execution_count": 3,
     "metadata": {},
     "output_type": "execute_result"
    }
   ],
   "source": [
    "Data_frame.create_exn Series.[int \"foobar\" [1;2;3;]]"
   ]
  },
  {
   "cell_type": "code",
   "execution_count": null,
   "id": "80ffca5d-048a-4783-89fb-2a5886d05e79",
   "metadata": {},
   "outputs": [],
   "source": []
  }
 ],
 "metadata": {
  "kernelspec": {
   "display_name": "OCaml default",
   "language": "OCaml",
   "name": "ocaml-jupyter"
  },
  "language_info": {
   "codemirror_mode": "text/x-ocaml",
   "file_extension": ".ml",
   "mimetype": "text/x-ocaml",
   "name": "OCaml",
   "nbconverter_exporter": null,
   "pygments_lexer": "OCaml",
   "version": "4.14.1"
  }
 },
 "nbformat": 4,
 "nbformat_minor": 5
}
